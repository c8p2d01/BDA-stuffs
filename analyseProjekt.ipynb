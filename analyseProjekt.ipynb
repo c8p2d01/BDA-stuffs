{
 "cells": [
  {
   "cell_type": "markdown",
   "id": "54b744bc",
   "metadata": {},
   "source": [
    "#### packets and imports"
   ]
  },
  {
   "cell_type": "code",
   "execution_count": 55,
   "id": "e0d3c913",
   "metadata": {},
   "outputs": [],
   "source": [
    "\n",
    "import math\n",
    "import random\n",
    "import numpy as np\n",
    "import pandas as pd\n",
    "import polars as pl #experimental, maybe suspicious\n",
    "import scipy.stats as stats\n",
    "import matplotlib.pyplot as plt\n",
    "import seaborn as sns\n",
    "from IPython.display import display # remove later on\n",
    "import ipywidgets as widgets # remove later on when dimension of views are settled\n"
   ]
  },
  {
   "cell_type": "markdown",
   "id": "95e9cf65",
   "metadata": {},
   "source": [
    "#### **1. Daten vorbereiten**  \n",
    "- **Daten herunterladen** von den Weltbank-Quellen (Militärausgaben, Import/Export, BIP).  \n",
    "- **Daten zusammenführen**:  \n",
    "  - Eine Tabelle erstellen mit: **Land, Jahr, Militärausgaben (% BIP), Export (% BIP), Import (% BIP), BIP (absolut)**.  \n",
    "  - Fehlende Werte: Entweder löschen oder durch den Durchschnitt ersetzen (einfache Lösung)."
   ]
  },
  {
   "cell_type": "code",
   "execution_count": 56,
   "id": "9dfb4ab8",
   "metadata": {},
   "outputs": [],
   "source": [
    "# reading in the data\n",
    "exports_df = pl.read_csv(\"./data/Exports of goods and services/API_NE.EXP.GNFS.ZS_DS2_en_csv_v2_2857.csv\")\n",
    "gdp_df = pl.read_csv(\"./data/GDP/API_NY.GDP.MKTP.CD_DS2_en_csv_v2_2752.csv\")\n",
    "imports_df = pl.read_csv(\"./data/Imports of goods and services/API_NE.IMP.GNFS.ZS_DS2_en_csv_v2_2862.csv\")\n",
    "military_df = pl.read_csv(\"./data/Military expenditure/API_MS.MIL.XPND.CD_DS2_en_csv_v2_6285.csv\")\n",
    "meta_df = pl.read_csv(\"./data/Exports of goods and services/Metadata_Country_API_NE.EXP.GNFS.ZS_DS2_en_csv_v2_2857.csv\")\n",
    "\n",
    "def merge_meta(main_pl_df):\n",
    "    # Convert to pandas for easier merge, then back to polars\n",
    "    main_pd = main_pl_df.to_pandas()\n",
    "    meta_pd = meta_df.to_pandas()\n",
    "\n",
    "    # Merge on \"Country Code\"\n",
    "    merged = main_pd.merge(meta_pd, left_on=\"Country Code\", right_on=\"Country Code\", how=\"left\")\n",
    "\n",
    "    # Convert back to polars DataFrame\n",
    "    main_pl_df = pl.from_pandas(merged)\n",
    "\n",
    "    return (main_pl_df)\n",
    "\n",
    "exports_df = merge_meta(exports_df)\n",
    "gdp_df = merge_meta(gdp_df)\n",
    "imports_df = merge_meta(imports_df)\n",
    "military_df = merge_meta(military_df)"
   ]
  },
  {
   "cell_type": "code",
   "execution_count": 57,
   "id": "1f16fb65",
   "metadata": {},
   "outputs": [],
   "source": [
    "# remove columns of no significance\n",
    "\n",
    "def select_cols_with_variation(df):\n",
    "    cols_with_variation = [col for col in df.columns if df.select(pl.col(col)).n_unique() > 1]\n",
    "    return df.select(cols_with_variation)\n",
    "\n",
    "exports_df = select_cols_with_variation(exports_df)\n",
    "gdp_df = select_cols_with_variation(gdp_df)\n",
    "imports_df = select_cols_with_variation(imports_df)\n",
    "military_df = select_cols_with_variation(military_df)"
   ]
  },
  {
   "cell_type": "code",
   "execution_count": 58,
   "id": "79506be7",
   "metadata": {},
   "outputs": [],
   "source": [
    "# find Rows that have no datapoints (all year columns are empty)\n",
    "def get_no_data_rows(df):\n",
    "    year_cols = [col for col in df.columns if col.isdigit()]\n",
    "    return df.filter(\n",
    "        pl.all_horizontal([\n",
    "            pl.col(col).is_null() | (pl.col(col).cast(pl.Utf8).str.strip_chars().eq(\"\"))\n",
    "            for col in year_cols\n",
    "        ])\n",
    "    )\n",
    "\n",
    "no_data_exports = get_no_data_rows(exports_df)\n",
    "no_data_gdp = get_no_data_rows(gdp_df)\n",
    "no_data_imports = get_no_data_rows(imports_df)\n",
    "no_data_military = get_no_data_rows(military_df)\n",
    "\n",
    "# Filter out rows with no data in any of the year columns\n",
    "# Union of all country codes with no data in every dataframe\n",
    "no_data_codes_individually = set(no_data_exports[\"Country Code\"].to_list()) | \\\n",
    "                             set(no_data_gdp[\"Country Code\"].to_list()) | \\\n",
    "                             set(no_data_imports[\"Country Code\"].to_list()) | \\\n",
    "                             set(no_data_military[\"Country Code\"].to_list())\n",
    "\n",
    "# TODO which of these countries are actually relevant for the analysis?\n",
    "\n",
    "# Filter all dataframes to exclude these rows\n",
    "# Intersection of all country codes with no data in every dataframe\n",
    "no_data_codes_anywhere = set(no_data_exports[\"Country Code\"].to_list()) & \\\n",
    "                         set(no_data_gdp[\"Country Code\"].to_list()) & \\\n",
    "                         set(no_data_imports[\"Country Code\"].to_list()) & \\\n",
    "                         set(no_data_military[\"Country Code\"].to_list())\n",
    "\n",
    "# Filter all dataframes to exclude these rows\n",
    "exports_df = exports_df.filter(~pl.col(\"Country Code\").is_in(no_data_codes_individually))\n",
    "gdp_df = gdp_df.filter(~pl.col(\"Country Code\").is_in(no_data_codes_individually))\n",
    "imports_df = imports_df.filter(~pl.col(\"Country Code\").is_in(no_data_codes_individually))\n",
    "military_df = military_df.filter(~pl.col(\"Country Code\").is_in(no_data_codes_individually))\n"
   ]
  },
  {
   "cell_type": "code",
   "execution_count": 59,
   "id": "774cbb08",
   "metadata": {},
   "outputs": [
    {
     "data": {
      "application/vnd.jupyter.widget-view+json": {
       "model_id": "84dfe973424a4e8491d25e512dd9f163",
       "version_major": 2,
       "version_minor": 0
      },
      "text/plain": [
       "IntSlider(value=2023, description='Displayed Year:', max=2023, min=1960)"
      ]
     },
     "metadata": {},
     "output_type": "display_data"
    },
    {
     "data": {
      "application/vnd.jupyter.widget-view+json": {
       "model_id": "5301d0c793c140f3828b6241fa1f5858",
       "version_major": 2,
       "version_minor": 0
      },
      "text/plain": [
       "IntSlider(value=20, description='number of entries displayed:', max=204, min=1)"
      ]
     },
     "metadata": {},
     "output_type": "display_data"
    },
    {
     "data": {
      "application/vnd.jupyter.widget-view+json": {
       "model_id": "202d7b7bbf01433592a1e8718a124be3",
       "version_major": 2,
       "version_minor": 0
      },
      "text/plain": [
       "SelectMultiple(description='kinds of entries, use ctrl+click to select multiple:', index=(3,), options=('World…"
      ]
     },
     "metadata": {},
     "output_type": "display_data"
    },
    {
     "data": {
      "application/vnd.jupyter.widget-view+json": {
       "model_id": "e5c3386dfd6b4cbfb3950c675c075e14",
       "version_major": 2,
       "version_minor": 0
      },
      "text/plain": [
       "Output()"
      ]
     },
     "metadata": {},
     "output_type": "display_data"
    }
   ],
   "source": [
    "\n",
    "year = widgets.IntSlider(\n",
    "    value=2023,\n",
    "    min=1960,\n",
    "    max=2023,\n",
    "    step=1,\n",
    "    description='Displayed Year:',\n",
    "    disabled=False,\n",
    "    continuous_update=True,\n",
    "    orientation='horizontal',\n",
    "    readout=True,\n",
    "    readout_format='d'\n",
    ")\n",
    "display(year)\n",
    "\n",
    "entries = widgets.IntSlider(\n",
    "    value=20,\n",
    "    min=1,\n",
    "    max=gdp_df.height,\n",
    "    step=1,\n",
    "    description='number of entries displayed:',\n",
    "    disabled=False,\n",
    "    continuous_update=True,\n",
    "    orientation='horizontal',\n",
    "    readout=True,\n",
    "    readout_format='d'\n",
    ")\n",
    "display(entries)\n",
    "\n",
    "groups = widgets.SelectMultiple(\n",
    "    options=['World', 'Grouped States', 'incomes', 'Countries'],\n",
    "    value=['Countries'],\n",
    "    #rows=10,\n",
    "    description='kinds of entries, use ctrl+click to select multiple:',\n",
    "    disabled=False\n",
    ")\n",
    "display(groups)\n",
    "\n",
    "output = widgets.Output()\n",
    "display(output)\n",
    "\n",
    "def balken_gdp(selected_year):\n",
    "    # Only keep rows with valid GDP data for the selected year\n",
    "    col_vals = gdp_df.filter(\n",
    "        ~pl.col(selected_year).is_null() & (pl.col(selected_year).str.strip_chars() != \"\")\n",
    "    ).select([\"Country Name\", \"Country Code\", selected_year, \"TableName\", \"SpecialNotes\"]).to_pandas()\n",
    "\n",
    "    # Convert to numeric, coerce errors to NaN, drop NaN\n",
    "    col_vals[selected_year] = pd.to_numeric(col_vals[selected_year], errors='coerce')\n",
    "    col_vals = col_vals.dropna(subset=[selected_year])\n",
    "    \n",
    "    inc_vals = col_vals[\n",
    "        col_vals[\"TableName\"].str.contains(\"income\", case=False, na=False) &\n",
    "        ~col_vals[\"TableName\"].str.contains(\"excluding\", case=False, na=False) |\n",
    "        col_vals[\"TableName\"].str.contains(\"dividend\", case=False, na=False) |\n",
    "        col_vals[\"TableName\"].str.contains(\"income\", case=False, na=False)\n",
    "    ] \n",
    "\n",
    "    world = col_vals[col_vals[\"Country Code\"] == \"WLD\"]\n",
    "\n",
    "    org_vals = col_vals[\n",
    "        (col_vals[\"SpecialNotes\"].str.contains(\"aggregate\", case=False, na=False) |\n",
    "         col_vals[\"TableName\"].str.contains(\"member\", case=False, na=False)) &\n",
    "        ~col_vals[\"TableName\"].str.contains(\"income\", case=False, na=False) &\n",
    "        ~col_vals.index.isin(world.index)\n",
    "    ]\n",
    "\n",
    "    country_vals = col_vals[\n",
    "        ~col_vals.index.isin(inc_vals.index) &\n",
    "        ~col_vals.index.isin(org_vals.index) &\n",
    "        ~col_vals.index.isin(world.index)\n",
    "    ]\n",
    "\n",
    "    selected_groups = set(groups.value)\n",
    "\n",
    "    dfs = []\n",
    "    if \"World\" in selected_groups:\n",
    "        dfs.append(world)\n",
    "    if \"Grouped States\" in selected_groups:\n",
    "        dfs.append(org_vals)\n",
    "    if \"incomes\" in selected_groups:\n",
    "        dfs.append(inc_vals)\n",
    "    if \"Countries\" in selected_groups:\n",
    "        dfs.append(country_vals)\n",
    "    if dfs:\n",
    "        col_vals = pd.concat(dfs, ignore_index=True)\n",
    "    else:\n",
    "        col_vals = pd.DataFrame(columns=col_vals.columns)\n",
    "\n",
    "    entries.max = col_vals.shape[0]\n",
    "\n",
    "    top_countries = col_vals.sort_values(selected_year, ascending=False)\n",
    "    if top_countries.shape[0] > entries.value:\n",
    "        top_countries = top_countries.head(entries.value)\n",
    "    plt.figure(figsize=(10, entries.value / 4))\n",
    "    sns.barplot(data=top_countries, x=selected_year, y=\"Country Name\", orient=\"h\")\n",
    "    plt.title(f\"GDP by Country in {selected_year}\")\n",
    "    plt.xlabel(\"GDP (current US$)\")\n",
    "    plt.ylabel(\"Country\")\n",
    "    plt.tight_layout()\n",
    "    plt.show()\n",
    "\n",
    "def on_year_change(change):\n",
    "    with output:\n",
    "        output.clear_output(wait=True)\n",
    "        selected_year = str(change['new'])\n",
    "        balken_gdp(selected_year)\n",
    "\n",
    "def on_groups_change(change):\n",
    "    with output:\n",
    "        output.clear_output(wait=True)\n",
    "        balken_gdp(str(year.value))\n",
    "\n",
    "def on_entries_change(change):\n",
    "    with output:\n",
    "        output.clear_output(wait=True)\n",
    "        balken_gdp(str(year.value))\n",
    "\n",
    "\n",
    "\n",
    "year.observe(on_year_change, names='value')\n",
    "groups.observe(on_groups_change, names='value')\n",
    "entries.observe(on_groups_change, names='value')\n",
    "\n",
    "# Initial call to display the first plot\n",
    "on_year_change({'new': year.value})\n"
   ]
  },
  {
   "cell_type": "markdown",
   "id": "68bafa32",
   "metadata": {},
   "source": [
    "#### **2. Erste Einblicke (Deskriptive Statistik)**  \n",
    "- **Mittelwerte & Streuung** berechnen:  \n",
    "  - Wie hoch sind durchschnittliche Militärausgaben, Exporte und Importe?  \n",
    "- **Einfache Grafiken** erstellen:  \n",
    "  - **Scatterplot**: Militärausgaben (x-Achse) vs. Export/Import (y-Achse).  \n",
    "  - **Boxplot**: Zeigt, ob Länder mit hohen Militärausgaben auch mehr handeln.  "
   ]
  },
  {
   "cell_type": "markdown",
   "id": "57d1bf96",
   "metadata": {},
   "source": [
    "#### **3. Korrelation berechnen**  \n",
    "- **Pearson-Korrelation** (linearer Zusammenhang):  \n",
    "  - Zwischen Militärausgaben (% BIP) und Export/Import (% BIP).  \n",
    "  - Interpretation:  \n",
    "    - **0 bis 0.3**: Schwacher Zusammenhang.  \n",
    "    - **0.3 bis 0.7**: Mittlerer Zusammenhang.  \n",
    "    - **> 0.7**: Starker Zusammenhang.  \n",
    "  - *Beispielcode in R*: `cor.test(data$Militär, data$Export)`  "
   ]
  },
  {
   "cell_type": "markdown",
   "id": "02dd55ad",
   "metadata": {},
   "source": [
    "#### **4. Einfache Regression (falls Korrelation vorhanden)**  \n",
    "- **Lineare Regression**:  \n",
    "  - Export (oder Import) = Konstante + β · Militärausgaben.  \n",
    "  - Fragestellung: **Erklären Militärausgaben einen Teil des Handels?**  \n",
    "  - *Beispielcode in R*: `lm(Export ~ Militär, data = data)` → Prüfe **p-Wert** (Signifikanz) und **R²** (Erklärungsgrad).  "
   ]
  },
  {
   "cell_type": "markdown",
   "id": "7f0f7f83",
   "metadata": {},
   "source": [
    "#### **5. Ausreißer checken**  \n",
    "- **Offensichtliche Extremwerte** identifizieren (z. B. USA, China, kleine Ölstaaten).  \n",
    "- **Sensitivitätsanalyse**: Regression einmal **mit** und einmal **ohne** Ausreißer rechnen – ändert sich das Ergebnis?  "
   ]
  },
  {
   "cell_type": "markdown",
   "id": "6d1acd83",
   "metadata": {},
   "source": [
    "#### **6. Ergebnisinterpretation**  \n",
    "- **Fazit ziehen**:  \n",
    "  - Gibt es einen Zusammenhang? Wenn ja, positiv oder negativ?  \n",
    "  - Ist er stark/schwach?  \n",
    "  - **Einschränkungen**: Keine Kausalität, nur Korrelation!  \n"
   ]
  },
  {
   "cell_type": "markdown",
   "id": "1470960f",
   "metadata": {},
   "source": [
    "### **Tools & Zeitplan**  \n",
    "- **Excel/R/Python** (je nach Kenntnisstand – Excel reicht für Korrelationen).  \n",
    "- **1 Woche** Daten sammeln & aufbereiten.  \n",
    "- **1 Woche** Analysen & Grafiken.  \n",
    "- **1 Woche** Ergebnisse zusammenfassen.  "
   ]
  },
  {
   "cell_type": "markdown",
   "id": "be6dc07f",
   "metadata": {},
   "source": [
    "### **Warum das ausreicht?**  \n",
    "- Bachelorarbeit muss keine Nobelpreis-Methodik haben – **einfach, sauber, nachvollziehbar** ist key.  \n",
    "- Korrelation + Regression sind Standardmethoden, die jeder Gutachter versteht.  "
   ]
  },
  {
   "cell_type": "markdown",
   "id": "0e9d71ef",
   "metadata": {},
   "source": [
    "Falls ihr mehr Zeit habt, könnt ihr noch **Ländervergleiche** (z. B. \"Demokratien vs. Autokratien\") oder **Zeittrends** einbauen – aber das obige reicht für eine solide Basis!"
   ]
  }
 ],
 "metadata": {
  "kernelspec": {
   "display_name": "Python 3",
   "language": "python",
   "name": "python3"
  },
  "language_info": {
   "codemirror_mode": {
    "name": "ipython",
    "version": 3
   },
   "file_extension": ".py",
   "mimetype": "text/x-python",
   "name": "python",
   "nbconvert_exporter": "python",
   "pygments_lexer": "ipython3",
   "version": "3.10.12"
  }
 },
 "nbformat": 4,
 "nbformat_minor": 5
}
